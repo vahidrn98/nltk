{
 "cells": [
  {
   "cell_type": "code",
   "execution_count": 11,
   "metadata": {},
   "outputs": [],
   "source": [
    "from nltk.tokenize import sent_tokenize,word_tokenize\n",
    "from nltk.corpus import stopwords"
   ]
  },
  {
   "cell_type": "code",
   "execution_count": 12,
   "metadata": {},
   "outputs": [],
   "source": [
    "#tokenizing: 1. word tokenizing 2. sentence tokenizing\n",
    "#lexicon and corporas\n",
    "#corpora: a body of text e.g: medical journals\n",
    "#lexicon: words and their meanings\n",
    "#investore speak vs regular speak\n",
    "#investor 'bull' means someone who's positive about the market\n",
    "#regular speak 'bull' means the animal"
   ]
  },
  {
   "cell_type": "code",
   "execution_count": 13,
   "metadata": {},
   "outputs": [
    {
     "name": "stdout",
     "output_type": "stream",
     "text": [
      "['hello, this is Vahid Reza.', 'who are you?', 'the sky is pinkish-blue']\n"
     ]
    }
   ],
   "source": [
    "example_sent = 'hello, this is Vahid Reza. who are you? the sky is pinkish-blue'\n",
    "print(sent_tokenize(example_sent))"
   ]
  },
  {
   "cell_type": "code",
   "execution_count": 15,
   "metadata": {},
   "outputs": [
    {
     "name": "stdout",
     "output_type": "stream",
     "text": [
      "['hello', ',', 'this', 'is', 'Vahid', 'Reza', '.', 'who', 'are', 'you', '?', 'the', 'sky', 'is', 'pinkish-blue']\n"
     ]
    }
   ],
   "source": [
    "print(word_tokenize(example_sent))"
   ]
  },
  {
   "cell_type": "code",
   "execution_count": 16,
   "metadata": {},
   "outputs": [
    {
     "name": "stdout",
     "output_type": "stream",
     "text": [
      "['hello', ',', 'Vahid', 'Reza', '.', '?', 'sky', 'pinkish-blue']\n"
     ]
    }
   ],
   "source": [
    "#removing stop words (meaningless useless words)\n",
    "stop_words =  set(stopwords.words('english'))\n",
    "words=word_tokenize(example_sent)\n",
    "filtered_sent =[]\n",
    "for w in words:\n",
    "    if(w not in stop_words):\n",
    "        filtered_sent.append(w)\n",
    "print(filtered_sent)"
   ]
  },
  {
   "cell_type": "code",
   "execution_count": null,
   "metadata": {},
   "outputs": [],
   "source": []
  }
 ],
 "metadata": {
  "kernelspec": {
   "display_name": "Python 3",
   "language": "python",
   "name": "python3"
  },
  "language_info": {
   "codemirror_mode": {
    "name": "ipython",
    "version": 3
   },
   "file_extension": ".py",
   "mimetype": "text/x-python",
   "name": "python",
   "nbconvert_exporter": "python",
   "pygments_lexer": "ipython3",
   "version": "3.7.3"
  }
 },
 "nbformat": 4,
 "nbformat_minor": 2
}
